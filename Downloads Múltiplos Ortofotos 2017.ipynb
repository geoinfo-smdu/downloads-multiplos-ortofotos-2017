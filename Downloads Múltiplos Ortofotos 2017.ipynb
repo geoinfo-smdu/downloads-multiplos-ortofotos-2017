{
 "cells": [
  {
   "cell_type": "markdown",
   "source": [
    "# Download Múltiplos de Ortofotos 2017"
   ],
   "metadata": {}
  },
  {
   "cell_type": "code",
   "execution_count": 2,
   "source": [
    "import geopandas as gpd"
   ],
   "outputs": [],
   "metadata": {}
  },
  {
   "cell_type": "code",
   "execution_count": 3,
   "source": [
    "import os\r\n",
    "cwd = os.getcwd()\r\n",
    "\r\n",
    "from selenium import webdriver\r\n",
    "from selenium.webdriver.chrome.options import Options\r\n",
    "\r\n",
    "options = Options()\r\n",
    "options.add_experimental_option(\"prefs\", {\r\n",
    "  \"download.default_directory\": cwd+\"\\ortofotos\",\r\n",
    "  \"download.prompt_for_download\": False,\r\n",
    "  \"download.directory_upgrade\": True,\r\n",
    "  \"safebrowsing.enabled\": True\r\n",
    "})\r\n"
   ],
   "outputs": [],
   "metadata": {}
  },
  {
   "cell_type": "code",
   "execution_count": 4,
   "source": [
    "driver = webdriver.Chrome(chrome_options=options)"
   ],
   "outputs": [
    {
     "output_type": "stream",
     "name": "stderr",
     "text": [
      "C:\\Users\\D877341\\AppData\\Local\\Temp/ipykernel_16868/2553989415.py:1: DeprecationWarning: use options instead of chrome_options\n",
      "  driver = webdriver.Chrome(chrome_options=options)\n"
     ]
    }
   ],
   "metadata": {}
  },
  {
   "cell_type": "code",
   "execution_count": 5,
   "source": [
    "gdf_quadriculas = gpd.read_file('zip://downloads/SIRGAS_SHP_quadriculaortofoto2017.zip!SIRGAS_SHP_quadriculaortofoto2017')"
   ],
   "outputs": [],
   "metadata": {}
  },
  {
   "cell_type": "code",
   "execution_count": 6,
   "source": [
    "qt_quadriculas = len(gdf_quadriculas)"
   ],
   "outputs": [],
   "metadata": {}
  },
  {
   "cell_type": "code",
   "execution_count": 7,
   "source": [
    "url_rgb = 'http://mapas.geosampa.prodam/PaginasPublicas/downloadIfr.aspx?orig=DownloadMapaArticulacao&arq=ORTOFOTOS_2017_RGB%5C{}.zip&arqTipo=MAPA_ARTICULACAO'\r\n",
    "url_irgb = 'http://mapas.geosampa.prodam/PaginasPublicas/downloadIfr.aspx?orig=DownloadMapaArticulacao&arq=ORTOFOTOS_2017_IrGB%5C{}.zip&arqTipo=MAPA_ARTICULACAO'"
   ],
   "outputs": [],
   "metadata": {}
  },
  {
   "cell_type": "code",
   "execution_count": 8,
   "source": [
    "ct = 0 \r\n",
    "\r\n",
    "for scm in gdf_quadriculas.qo2010_cod.to_list():\r\n",
    "    print(scm, f'{ct}/{qt_quadriculas}')\r\n",
    "    driver.get(url_rgb.format(scm))\r\n",
    "    driver.get(url_irgb.format(scm))\r\n",
    "    ct += 1"
   ],
   "outputs": [
    {
     "output_type": "stream",
     "name": "stdout",
     "text": [
      "2242-3 0/4250\n",
      "3243-1 1/4250\n",
      "3335-313 2/4250\n",
      "2346-434 3/4250\n",
      "3336-313 4/4250\n",
      "3335-434 5/4250\n",
      "3335-433 6/4250\n",
      "3335-424 7/4250\n",
      "3335-423 8/4250\n",
      "3335-414 9/4250\n",
      "3335-413 10/4250\n",
      "3335-334 11/4250\n",
      "3335-333 12/4250\n",
      "3335-324 13/4250\n",
      "3335-323 14/4250\n",
      "3335-314 15/4250\n",
      "2346-423 16/4250\n",
      "2346-414 17/4250\n",
      "2346-413 18/4250\n",
      "2346-334 19/4250\n",
      "2346-333 20/4250\n",
      "2346-324 21/4250\n",
      "2346-323 22/4250\n",
      "3336-441 23/4250\n",
      "3336-362 24/4250\n",
      "3336-361 25/4250\n",
      "3336-352 26/4250\n",
      "3336-351 27/4250\n",
      "3336-342 28/4250\n",
      "3336-341 29/4250\n",
      "3335-462 30/4250\n",
      "3335-461 31/4250\n",
      "3335-452 32/4250\n",
      "3335-451 33/4250\n",
      "3335-442 34/4250\n",
      "3335-441 35/4250\n",
      "3335-362 36/4250\n",
      "3335-361 37/4250\n",
      "3335-352 38/4250\n",
      "3335-351 39/4250\n",
      "3335-342 40/4250\n",
      "3335-341 41/4250\n"
     ]
    }
   ],
   "metadata": {}
  },
  {
   "cell_type": "code",
   "execution_count": null,
   "source": [],
   "outputs": [],
   "metadata": {}
  }
 ],
 "metadata": {
  "orig_nbformat": 4,
  "language_info": {
   "name": "python",
   "version": "3.8.10",
   "mimetype": "text/x-python",
   "codemirror_mode": {
    "name": "ipython",
    "version": 3
   },
   "pygments_lexer": "ipython3",
   "nbconvert_exporter": "python",
   "file_extension": ".py"
  },
  "kernelspec": {
   "name": "python3",
   "display_name": "Python 3.8.10 64-bit ('geo': conda)"
  },
  "interpreter": {
   "hash": "908a4c48a1c4924d969e586c0e1fa750734cfa9d48271eb93a402166d0f979f7"
  }
 },
 "nbformat": 4,
 "nbformat_minor": 2
}